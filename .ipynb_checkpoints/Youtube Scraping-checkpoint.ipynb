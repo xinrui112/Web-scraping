{
 "cells": [
  {
   "cell_type": "code",
   "execution_count": 3,
   "metadata": {},
   "outputs": [],
   "source": [
    "from youtube_scraper.scraper import scrape_url"
   ]
  },
  {
   "cell_type": "code",
   "execution_count": 7,
   "metadata": {},
   "outputs": [],
   "source": [
    "import re, requests\n",
    "from bs4 import BeautifulSoup"
   ]
  },
  {
   "cell_type": "code",
   "execution_count": 8,
   "metadata": {},
   "outputs": [],
   "source": [
    "class YoutubeScrape(object):\n",
    "\n",
    "    def __init__(self, soup):\n",
    "        \"\"\" Initialize and scrape \"\"\"\n",
    "        self.soup = soup\n",
    "        try:\n",
    "            self.title = self.parse_string(\".watch-title\")\n",
    "        except:\n",
    "            self.title = self.parse_string(\".title\")\n",
    "        try:\n",
    "            self.poster = self.parse_string(\".yt-user-info\")\n",
    "        except:\n",
    "            self.poster = self.parse_string(\".ytd-channel-name\")\n",
    "        try:\n",
    "            self.views = self.parse_int(\".watch-view-count\")\n",
    "        except:\n",
    "            self.views = self.parse_int(\".view-count\")\n",
    "        try:\n",
    "            self.published = self.parse_string(\".watch-time-text\")\n",
    "        except:\n",
    "            self.published = self.parse_string(\"#date\")\n",
    "        self.published = re.sub(r\"(Published|Uploaded) on\", \"\", self.published).strip()\n",
    "        try:\n",
    "            self.like = self.parse_int(\".yt-uix-clickcard\", 4)\n",
    "        except:\n",
    "            pass\n",
    "        try:\n",
    "            self.dislike = self.parse_int(\".yt-uix-clickcard\", 5)\n",
    "        except:\n",
    "            pass\n",
    "\n",
    "    def parse_int(self, selector, pos=0):\n",
    "        \"\"\" Extract one integer element from soup \"\"\"\n",
    "        return int(re.sub(\"[^0-9]\", \"\", self.parse_string(selector, pos)))\n",
    "\n",
    "    def parse_string(self, selector, pos=0):\n",
    "        \"\"\" Extract one particular element from soup \"\"\"\n",
    "        return self.soup.select(selector)[pos].get_text().strip()\n",
    "\n",
    "\n",
    "def scrape_html(html):\n",
    "    \"\"\" Return meta information about a video \"\"\"\n",
    "    return YoutubeScrape(BeautifulSoup(html, \"html.parser\"))\n",
    "\n",
    "\n",
    "def scrape_url(url):\n",
    "    \"\"\" Scrape a given url for youtube information \"\"\"\n",
    "\n",
    "    # set English as scraping language\n",
    "    headers = {\"Accept-Language\": \"en-US,en;q=0.5\"}\n",
    "    html = requests.get(url, headers=headers).text\n",
    "    return scrape_html(html)"
   ]
  },
  {
   "cell_type": "code",
   "execution_count": null,
   "metadata": {},
   "outputs": [],
   "source": [
    "print(data.poster)"
   ]
  }
 ],
 "metadata": {
  "kernelspec": {
   "display_name": "Python 3",
   "language": "python",
   "name": "python3"
  },
  "language_info": {
   "codemirror_mode": {
    "name": "ipython",
    "version": 3
   },
   "file_extension": ".py",
   "mimetype": "text/x-python",
   "name": "python",
   "nbconvert_exporter": "python",
   "pygments_lexer": "ipython3",
   "version": "3.8.5"
  }
 },
 "nbformat": 4,
 "nbformat_minor": 4
}
