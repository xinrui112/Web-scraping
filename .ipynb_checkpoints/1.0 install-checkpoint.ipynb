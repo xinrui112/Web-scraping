{
 "cells": [
  {
   "cell_type": "code",
   "execution_count": 1,
   "metadata": {},
   "outputs": [],
   "source": [
    "import requests\n",
    "import selenium"
   ]
  },
  {
   "cell_type": "code",
   "execution_count": 10,
   "metadata": {},
   "outputs": [],
   "source": [
    "#open browser: chromedriver/GeckoDriver\n",
    "import time\n",
    "from selenium import webdriver\n",
    "\n",
    "driver = webdriver.Chrome('/Applications/chromedriver')\n",
    "driver.get('http://www.google.com/')\n",
    "time.sleep(5)\n",
    "search_box = driver.find_element_by_name('q')\n",
    "search_box.send_keys('ChromeDriver')\n",
    "search_box.submit()\n",
    "time.sleep(5)\n",
    "driver.quit()"
   ]
  },
  {
   "cell_type": "code",
   "execution_count": 15,
   "metadata": {},
   "outputs": [
    {
     "name": "stderr",
     "output_type": "stream",
     "text": [
      "/Users/xrli/opt/anaconda3/lib/python3.8/site-packages/selenium/webdriver/phantomjs/webdriver.py:49: UserWarning: Selenium support for PhantomJS has been deprecated, please use headless versions of Chrome or Firefox instead\n",
      "  warnings.warn('Selenium support for PhantomJS has been deprecated, please use headless '\n"
     ]
    },
    {
     "name": "stdout",
     "output_type": "stream",
     "text": [
      "http://www.google.com/#spf=1614562579331\n"
     ]
    }
   ],
   "source": [
    "#no browser: PhantomJS\n",
    "from selenium import webdriver\n",
    "driver=webdriver.PhantomJS('/Applications/PhantomJS')\n",
    "driver.get('http://www.google.com/')\n",
    "print(driver.current_url)"
   ]
  },
  {
   "cell_type": "code",
   "execution_count": 21,
   "metadata": {},
   "outputs": [],
   "source": [
    "#html/xml解析\n",
    "#!pip install aiohttp\n",
    "#!pip install lxml\n",
    "#!pip install beautifulsoup4\n",
    "#!pip install pyquery"
   ]
  },
  {
   "cell_type": "code",
   "execution_count": 59,
   "metadata": {},
   "outputs": [
    {
     "name": "stdout",
     "output_type": "stream",
     "text": [
      "Collecting tesserocr\n",
      "  Using cached tesserocr-2.5.1.tar.gz (54 kB)\n",
      "Building wheels for collected packages: tesserocr\n",
      "  Building wheel for tesserocr (setup.py) ... \u001b[?25lerror\n",
      "\u001b[31m  ERROR: Command errored out with exit status 1:\n",
      "   command: /Users/xrli/opt/anaconda3/bin/python -u -c 'import sys, setuptools, tokenize; sys.argv[0] = '\"'\"'/private/var/folders/qh/9z260mrj76l00yjxzhzsrbn80000gn/T/pip-install-hvbszlaj/tesserocr_b9a6bff40e19426788f7ad0c6d905e7d/setup.py'\"'\"'; __file__='\"'\"'/private/var/folders/qh/9z260mrj76l00yjxzhzsrbn80000gn/T/pip-install-hvbszlaj/tesserocr_b9a6bff40e19426788f7ad0c6d905e7d/setup.py'\"'\"';f=getattr(tokenize, '\"'\"'open'\"'\"', open)(__file__);code=f.read().replace('\"'\"'\\r\\n'\"'\"', '\"'\"'\\n'\"'\"');f.close();exec(compile(code, __file__, '\"'\"'exec'\"'\"'))' bdist_wheel -d /private/var/folders/qh/9z260mrj76l00yjxzhzsrbn80000gn/T/pip-wheel-cijrxvme\n",
      "       cwd: /private/var/folders/qh/9z260mrj76l00yjxzhzsrbn80000gn/T/pip-install-hvbszlaj/tesserocr_b9a6bff40e19426788f7ad0c6d905e7d/\n",
      "  Complete output (19 lines):\n",
      "  /private/var/folders/qh/9z260mrj76l00yjxzhzsrbn80000gn/T/pip-install-hvbszlaj/tesserocr_b9a6bff40e19426788f7ad0c6d905e7d/setup.py:72: SyntaxWarning: \"is not\" with a literal. Did you mean \"!=\"?\n",
      "    if subversion is not None and subversion is not \"\":\n",
      "  /private/var/folders/qh/9z260mrj76l00yjxzhzsrbn80000gn/T/pip-install-hvbszlaj/tesserocr_b9a6bff40e19426788f7ad0c6d905e7d/setup.py:135: DeprecationWarning: The 'warn' method is deprecated, use 'warning' instead\n",
      "    _LOGGER.warn('Failed to extract tesseract version from executable: {}'.format(e))\n",
      "  Failed to extract tesseract version from executable: [Errno 2] No such file or directory: 'tesseract'\n",
      "  Supporting tesseract v3.04.00\n",
      "  Building with configs: {'libraries': ['tesseract', 'lept'], 'cython_compile_time_env': {'TESSERACT_VERSION': 50593792}}\n",
      "  running bdist_wheel\n",
      "  running build\n",
      "  running build_ext\n",
      "  building 'tesserocr' extension\n",
      "  creating build\n",
      "  creating build/temp.macosx-10.9-x86_64-3.8\n",
      "  gcc -Wno-unused-result -Wsign-compare -Wunreachable-code -DNDEBUG -g -fwrapv -O3 -Wall -Wstrict-prototypes -I/Users/xrli/opt/anaconda3/include -arch x86_64 -I/Users/xrli/opt/anaconda3/include -arch x86_64 -I/Users/xrli/opt/anaconda3/include/python3.8 -c tesserocr.cpp -o build/temp.macosx-10.9-x86_64-3.8/tesserocr.o\n",
      "  tesserocr.cpp:657:10: fatal error: 'leptonica/allheaders.h' file not found\n",
      "  #include \"leptonica/allheaders.h\"\n",
      "           ^~~~~~~~~~~~~~~~~~~~~~~~\n",
      "  1 error generated.\n",
      "  error: command 'gcc' failed with exit status 1\n",
      "  ----------------------------------------\u001b[0m\n",
      "\u001b[31m  ERROR: Failed building wheel for tesserocr\u001b[0m\n",
      "\u001b[?25h  Running setup.py clean for tesserocr\n",
      "Failed to build tesserocr\n",
      "Installing collected packages: tesserocr\n",
      "    Running setup.py install for tesserocr ... \u001b[?25lerror\n",
      "\u001b[31m    ERROR: Command errored out with exit status 1:\n",
      "     command: /Users/xrli/opt/anaconda3/bin/python -u -c 'import sys, setuptools, tokenize; sys.argv[0] = '\"'\"'/private/var/folders/qh/9z260mrj76l00yjxzhzsrbn80000gn/T/pip-install-hvbszlaj/tesserocr_b9a6bff40e19426788f7ad0c6d905e7d/setup.py'\"'\"'; __file__='\"'\"'/private/var/folders/qh/9z260mrj76l00yjxzhzsrbn80000gn/T/pip-install-hvbszlaj/tesserocr_b9a6bff40e19426788f7ad0c6d905e7d/setup.py'\"'\"';f=getattr(tokenize, '\"'\"'open'\"'\"', open)(__file__);code=f.read().replace('\"'\"'\\r\\n'\"'\"', '\"'\"'\\n'\"'\"');f.close();exec(compile(code, __file__, '\"'\"'exec'\"'\"'))' install --record /private/var/folders/qh/9z260mrj76l00yjxzhzsrbn80000gn/T/pip-record-jtwzc3u9/install-record.txt --single-version-externally-managed --compile --install-headers /Users/xrli/opt/anaconda3/include/python3.8/tesserocr\n",
      "         cwd: /private/var/folders/qh/9z260mrj76l00yjxzhzsrbn80000gn/T/pip-install-hvbszlaj/tesserocr_b9a6bff40e19426788f7ad0c6d905e7d/\n",
      "    Complete output (19 lines):\n",
      "    /private/var/folders/qh/9z260mrj76l00yjxzhzsrbn80000gn/T/pip-install-hvbszlaj/tesserocr_b9a6bff40e19426788f7ad0c6d905e7d/setup.py:72: SyntaxWarning: \"is not\" with a literal. Did you mean \"!=\"?\n",
      "      if subversion is not None and subversion is not \"\":\n",
      "    /private/var/folders/qh/9z260mrj76l00yjxzhzsrbn80000gn/T/pip-install-hvbszlaj/tesserocr_b9a6bff40e19426788f7ad0c6d905e7d/setup.py:135: DeprecationWarning: The 'warn' method is deprecated, use 'warning' instead\n",
      "      _LOGGER.warn('Failed to extract tesseract version from executable: {}'.format(e))\n",
      "    Failed to extract tesseract version from executable: [Errno 2] No such file or directory: 'tesseract'\n",
      "    Supporting tesseract v3.04.00\n",
      "    Building with configs: {'libraries': ['tesseract', 'lept'], 'cython_compile_time_env': {'TESSERACT_VERSION': 50593792}}\n",
      "    running install\n",
      "    running build\n",
      "    running build_ext\n",
      "    building 'tesserocr' extension\n",
      "    creating build\n",
      "    creating build/temp.macosx-10.9-x86_64-3.8\n",
      "    gcc -Wno-unused-result -Wsign-compare -Wunreachable-code -DNDEBUG -g -fwrapv -O3 -Wall -Wstrict-prototypes -I/Users/xrli/opt/anaconda3/include -arch x86_64 -I/Users/xrli/opt/anaconda3/include -arch x86_64 -I/Users/xrli/opt/anaconda3/include/python3.8 -c tesserocr.cpp -o build/temp.macosx-10.9-x86_64-3.8/tesserocr.o\n",
      "    tesserocr.cpp:657:10: fatal error: 'leptonica/allheaders.h' file not found\n",
      "    #include \"leptonica/allheaders.h\"\n",
      "             ^~~~~~~~~~~~~~~~~~~~~~~~\n",
      "    1 error generated.\n",
      "    error: command 'gcc' failed with exit status 1\n",
      "    ----------------------------------------\u001b[0m\n",
      "\u001b[31mERROR: Command errored out with exit status 1: /Users/xrli/opt/anaconda3/bin/python -u -c 'import sys, setuptools, tokenize; sys.argv[0] = '\"'\"'/private/var/folders/qh/9z260mrj76l00yjxzhzsrbn80000gn/T/pip-install-hvbszlaj/tesserocr_b9a6bff40e19426788f7ad0c6d905e7d/setup.py'\"'\"'; __file__='\"'\"'/private/var/folders/qh/9z260mrj76l00yjxzhzsrbn80000gn/T/pip-install-hvbszlaj/tesserocr_b9a6bff40e19426788f7ad0c6d905e7d/setup.py'\"'\"';f=getattr(tokenize, '\"'\"'open'\"'\"', open)(__file__);code=f.read().replace('\"'\"'\\r\\n'\"'\"', '\"'\"'\\n'\"'\"');f.close();exec(compile(code, __file__, '\"'\"'exec'\"'\"'))' install --record /private/var/folders/qh/9z260mrj76l00yjxzhzsrbn80000gn/T/pip-record-jtwzc3u9/install-record.txt --single-version-externally-managed --compile --install-headers /Users/xrli/opt/anaconda3/include/python3.8/tesserocr Check the logs for full command output.\u001b[0m\n",
      "\u001b[?25h"
     ]
    }
   ],
   "source": [
    "#ocr verificaiton\n",
    "#!pip install autoconf\n",
    "##!pip install automake\n",
    "#!pip install libtool\n",
    "#!pip install pkgconfig\n",
    "\n",
    "\n",
    "!pip install tesserocr"
   ]
  },
  {
   "cell_type": "code",
   "execution_count": 60,
   "metadata": {},
   "outputs": [
    {
     "name": "stdout",
     "output_type": "stream",
     "text": [
      "\u001b[31mERROR: Could not find a version that satisfies the requirement libleptonica-dev\u001b[0m\r\n",
      "\u001b[31mERROR: No matching distribution found for libleptonica-dev\u001b[0m\r\n"
     ]
    }
   ],
   "source": [
    "#!pip install libleptonica-dev"
   ]
  },
  {
   "cell_type": "code",
   "execution_count": 61,
   "metadata": {},
   "outputs": [
    {
     "name": "stdout",
     "output_type": "stream",
     "text": [
      "\u001b[31mERROR: Could not find a version that satisfies the requirement leptonica\u001b[0m\r\n",
      "\u001b[31mERROR: No matching distribution found for leptonica\u001b[0m\r\n"
     ]
    }
   ],
   "source": [
    "!pip install leptonica"
   ]
  },
  {
   "cell_type": "code",
   "execution_count": null,
   "metadata": {},
   "outputs": [],
   "source": []
  }
 ],
 "metadata": {
  "kernelspec": {
   "display_name": "Python 3",
   "language": "python",
   "name": "python3"
  },
  "language_info": {
   "codemirror_mode": {
    "name": "ipython",
    "version": 3
   },
   "file_extension": ".py",
   "mimetype": "text/x-python",
   "name": "python",
   "nbconvert_exporter": "python",
   "pygments_lexer": "ipython3",
   "version": "3.8.3"
  }
 },
 "nbformat": 4,
 "nbformat_minor": 4
}
