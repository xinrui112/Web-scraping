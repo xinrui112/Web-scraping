{
 "cells": [
  {
   "cell_type": "code",
   "execution_count": 10,
   "metadata": {},
   "outputs": [],
   "source": [
    "import re, requests\n",
    "from bs4 import BeautifulSoup\n",
    "from youtube_scraper.scraper import scrape_url"
   ]
  },
  {
   "cell_type": "code",
   "execution_count": 11,
   "metadata": {},
   "outputs": [],
   "source": [
    "class YoutubeScrape(object):\n",
    "\n",
    "    def __init__(self, soup):\n",
    "        \"\"\" Initialize and scrape \"\"\"\n",
    "        self.soup = soup\n",
    "        try:\n",
    "            self.title = self.parse_string(\".watch-title\")\n",
    "        except:\n",
    "            self.title = self.parse_string(\".title\")\n",
    "        try:\n",
    "            self.poster = self.parse_string(\".yt-user-info\")\n",
    "        except:\n",
    "            self.poster = self.parse_string(\".ytd-channel-name\")\n",
    "        try:\n",
    "            self.views = self.parse_int(\".watch-view-count\")\n",
    "        except:\n",
    "            self.views = self.parse_int(\".view-count\")\n",
    "        try:\n",
    "            self.published = self.parse_string(\".watch-time-text\")\n",
    "        except:\n",
    "            self.published = self.parse_string(\"#date\")\n",
    "        self.published = re.sub(r\"(Published|Uploaded) on\", \"\", self.published).strip()\n",
    "        try:\n",
    "            self.like = self.parse_int(\".yt-uix-clickcard\", 4)\n",
    "        except:\n",
    "            pass\n",
    "        try:\n",
    "            self.dislike = self.parse_int(\".yt-uix-clickcard\", 5)\n",
    "        except:\n",
    "            pass\n",
    "\n",
    "    def parse_int(self, selector, pos=0):\n",
    "        \"\"\" Extract one integer element from soup \"\"\"\n",
    "        return int(re.sub(\"[^0-9]\", \"\", self.parse_string(selector, pos)))\n",
    "\n",
    "    def parse_string(self, selector, pos=0):\n",
    "        \"\"\" Extract one particular element from soup \"\"\"\n",
    "        return self.soup.select(selector)[pos].get_text().strip()\n",
    "\n",
    "\n",
    "def scrape_html(html):\n",
    "    \"\"\" Return meta information about a video \"\"\"\n",
    "    return YoutubeScrape(BeautifulSoup(html, \"html.parser\"))\n",
    "\n",
    "\n",
    "def scrape_url(url):\n",
    "    \"\"\" Scrape a given url for youtube information \"\"\"\n",
    "\n",
    "    # set English as scraping language\n",
    "    headers = {\"Accept-Language\": \"en-US,en;q=0.5\"}\n",
    "    html = requests.get(url, headers=headers).text\n",
    "    return scrape_html(html)"
   ]
  },
  {
   "cell_type": "code",
   "execution_count": 12,
   "metadata": {},
   "outputs": [],
   "source": [
    "import unittest\n",
    "from youtube_scraper.scraper import scrape_html, scrape_url\n",
    "\n",
    "TEST_DATA = '<html>\\\n",
    "    <span id=\"eow-title\" class=\"watch-title \" dir=\"ltr\" title=\"thetitle\">\\\n",
    "thetitle\\\n",
    "    </span>\\\n",
    "    <div class=\"yt-user-info\">\\\n",
    "      <a href=\"/channel/asdkjasdkjashdkaljsdhasl\" class=\" yt-uix-sessionlink     spf-link  g-hovercard\" data-name=\"\" data-ytid=\"askdjahsdkaljshdaskasljd\" data-sessionlink=\"asdasdjasdahsdjaksdllsjjs\">theposter</a>\\\n",
    "    </div>\\\n",
    "    <div class=\"watch-view-count\">9,999</div>\\\n",
    "    <strong class=\"watch-time-text\">Published on Apr 1, 2013</strong>\\\n",
    "    <button class=\"yt-uix-button yt-uix-button-size-default yt-uix-button-opacity yt-uix-button-has-icon no-icon-markup like-button-renderer-like-button-unclicked  yt-uix-post-anchor yt-uix-tooltip\" type=\"button\" onclick=\";return false;\" aria-label=\"like this video along with 168 other people\" title=\"I like this\" id=\"watch-like\" data-position=\"bottomright\" data-post-action=\"/watch_actions_ajax?action_like_video=1&amp;video_id=7dlcxXxDGUI\" data-force-position=\"true\" data-orientation=\"vertical\" data-post-data=\"\" data-tooltip-text=\"I like this\"><span class=\"yt-uix-button-content\">168</span></button>\\\n",
    "    <button class=\"yt-uix-button yt-uix-button-size-default yt-uix-button-opacity yt-uix-button-has-icon no-icon-markup like-button-renderer-dislike-button-unclicked  yt-uix-post-anchor yt-uix-tooltip\" type=\"button\" onclick=\";return false;\" aria-label=\"dislike this video along with 8 other people\" title=\"I dislike this\" id=\"watch-dislike\" data-position=\"bottomright\" data-post-action=\"/watch_actions_ajax?action_dislike_video=1&amp;video_id=7dlcxXxDGUI\" data-force-position=\"true\" data-orientation=\"vertical\" data-post-data=\"\" data-tooltip-text=\"I dislike this\"><span class=\"yt-uix-button-content\">8</span></button>\\\n",
    "</html>'\n",
    "\n",
    "class TestScraper(unittest.TestCase):\n",
    "    def test_scrape_html(self):\n",
    "        data = scrape_html(TEST_DATA)\n",
    "        self.assertEqual(data.title, 'thetitle')\n",
    "        self.assertEqual(data.poster, 'theposter')\n",
    "        self.assertEqual(data.views, 9999)\n",
    "        self.assertEqual(data.published, 'Apr 1, 2013')\n",
    "        self.assertEqual(data.like, 168)\n",
    "        self.assertEqual(data.dislike, 8)\n",
    "\n",
    "    def test_scrape_url(self):\n",
    "        data = scrape_url('http://youtube.com/watch?v=7dlcxXxDGUI')\n",
    "        self.assertEqual(data.poster, 'TheViperAOC')\n",
    "\n",
    "if __name__ == '__main':\n",
    "    unittest.main()"
   ]
  },
  {
   "cell_type": "code",
   "execution_count": 19,
   "metadata": {},
   "outputs": [
    {
     "name": "stdout",
     "output_type": "stream",
     "text": [
      "\u001b[31mERROR: Could not find a version that satisfies the requirement scrape-youtube (from versions: none)\u001b[0m\r\n",
      "\u001b[31mERROR: No matching distribution found for scrape-youtube\u001b[0m\r\n"
     ]
    }
   ],
   "source": [
    "!pip install scrape-youtube"
   ]
  },
  {
   "cell_type": "code",
   "execution_count": 18,
   "metadata": {},
   "outputs": [
    {
     "ename": "SyntaxError",
     "evalue": "invalid syntax (<ipython-input-18-d4b62a282551>, line 1)",
     "output_type": "error",
     "traceback": [
      "\u001b[0;36m  File \u001b[0;32m\"<ipython-input-18-d4b62a282551>\"\u001b[0;36m, line \u001b[0;32m1\u001b[0m\n\u001b[0;31m    import youtube from scrape-youtube\u001b[0m\n\u001b[0m                   ^\u001b[0m\n\u001b[0;31mSyntaxError\u001b[0m\u001b[0;31m:\u001b[0m invalid syntax\n"
     ]
    }
   ],
   "source": [
    "import youtube from scrape-youtube"
   ]
  },
  {
   "cell_type": "code",
   "execution_count": 13,
   "metadata": {},
   "outputs": [
    {
     "ename": "SyntaxError",
     "evalue": "invalid syntax (<ipython-input-13-b21126003477>, line 1)",
     "output_type": "error",
     "traceback": [
      "\u001b[0;36m  File \u001b[0;32m\"<ipython-input-13-b21126003477>\"\u001b[0;36m, line \u001b[0;32m1\u001b[0m\n\u001b[0;31m    youtube.search('Short Change Hero').then(results => {\u001b[0m\n\u001b[0m                                                      ^\u001b[0m\n\u001b[0;31mSyntaxError\u001b[0m\u001b[0;31m:\u001b[0m invalid syntax\n"
     ]
    }
   ],
   "source": [
    "youtube.search('Short Change Hero').then(results => {\n",
    "    console.log(results.videos)\n",
    "})"
   ]
  },
  {
   "cell_type": "code",
   "execution_count": null,
   "metadata": {},
   "outputs": [],
   "source": [
    "#youtube.search('lofi hip hop beats to relax/study to', { type: 'live' }).then(results => {\n",
    "#  console.log(results.streams);\n",
    "#})"
   ]
  }
 ],
 "metadata": {
  "kernelspec": {
   "display_name": "Python 3",
   "language": "python",
   "name": "python3"
  },
  "language_info": {
   "codemirror_mode": {
    "name": "ipython",
    "version": 3
   },
   "file_extension": ".py",
   "mimetype": "text/x-python",
   "name": "python",
   "nbconvert_exporter": "python",
   "pygments_lexer": "ipython3",
   "version": "3.8.5"
  }
 },
 "nbformat": 4,
 "nbformat_minor": 4
}
