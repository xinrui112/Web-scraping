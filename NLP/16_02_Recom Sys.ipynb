{
 "cells": [
  {
   "cell_type": "code",
   "execution_count": 1,
   "metadata": {},
   "outputs": [],
   "source": [
    "import requests, json, time, math\n",
    "from datetime import datetime\n",
    "from multiprocessing import Pool\n",
    "from sqlalchemy import *\n",
    "from bs4 import BeautifulSoup\n",
    "import pandas as pd\n",
    "from tqdm.auto import tqdm"
   ]
  },
  {
   "cell_type": "markdown",
   "metadata": {},
   "source": [
    "#### Good to have"
   ]
  },
  {
   "cell_type": "code",
   "execution_count": 2,
   "metadata": {},
   "outputs": [],
   "source": [
    "def split_list(l, n):\n",
    "    for i in range(0, len(l), n):\n",
    "        yield l[i:i + n]"
   ]
  },
  {
   "cell_type": "code",
   "execution_count": 3,
   "metadata": {},
   "outputs": [
    {
     "data": {
      "application/vnd.jupyter.widget-view+json": {
       "model_id": "174e0ac8eda64b2885ac07eb697e33e2",
       "version_major": 2,
       "version_minor": 0
      },
      "text/plain": [
       "HBox(children=(HTML(value=''), FloatProgress(value=0.0, max=10.0), HTML(value='')))"
      ]
     },
     "metadata": {},
     "output_type": "display_data"
    },
    {
     "name": "stdout",
     "output_type": "stream",
     "text": [
      "\n"
     ]
    }
   ],
   "source": [
    "for i in tqdm(range(10)):\n",
    "    time.sleep(.3)"
   ]
  },
  {
   "cell_type": "markdown",
   "metadata": {},
   "source": [
    "#### Get user inventory\n",
    "##### Option A: For Loop"
   ]
  },
  {
   "cell_type": "code",
   "execution_count": 4,
   "metadata": {},
   "outputs": [
    {
     "ename": "FileNotFoundError",
     "evalue": "[Errno 2] No such file or directory: 'data/steam_user_id.txt'",
     "output_type": "error",
     "traceback": [
      "\u001b[0;31m---------------------------------------------------------------------------\u001b[0m",
      "\u001b[0;31mFileNotFoundError\u001b[0m                         Traceback (most recent call last)",
      "\u001b[0;32m<ipython-input-4-5f7522966d93>\u001b[0m in \u001b[0;36m<module>\u001b[0;34m\u001b[0m\n\u001b[1;32m      1\u001b[0m \u001b[0mpath_user_id\u001b[0m \u001b[0;34m=\u001b[0m \u001b[0;34m'data/steam_user_id.txt'\u001b[0m\u001b[0;34m\u001b[0m\u001b[0;34m\u001b[0m\u001b[0m\n\u001b[0;32m----> 2\u001b[0;31m \u001b[0;32mwith\u001b[0m \u001b[0mopen\u001b[0m\u001b[0;34m(\u001b[0m\u001b[0mpath_user_id\u001b[0m\u001b[0;34m,\u001b[0m \u001b[0;34m'rb'\u001b[0m\u001b[0;34m)\u001b[0m \u001b[0;32mas\u001b[0m \u001b[0mf\u001b[0m\u001b[0;34m:\u001b[0m\u001b[0;34m\u001b[0m\u001b[0;34m\u001b[0m\u001b[0m\n\u001b[0m\u001b[1;32m      3\u001b[0m     \u001b[0mlst_user_id\u001b[0m \u001b[0;34m=\u001b[0m \u001b[0mf\u001b[0m\u001b[0;34m.\u001b[0m\u001b[0mreadlines\u001b[0m\u001b[0;34m(\u001b[0m\u001b[0;34m)\u001b[0m\u001b[0;34m\u001b[0m\u001b[0;34m\u001b[0m\u001b[0m\n\u001b[1;32m      4\u001b[0m \u001b[0;34m\u001b[0m\u001b[0m\n\u001b[1;32m      5\u001b[0m \u001b[0mlst_user_id\u001b[0m\u001b[0;34m[\u001b[0m\u001b[0;34m:\u001b[0m\u001b[0;36m5\u001b[0m\u001b[0;34m]\u001b[0m\u001b[0;34m\u001b[0m\u001b[0;34m\u001b[0m\u001b[0m\n",
      "\u001b[0;31mFileNotFoundError\u001b[0m: [Errno 2] No such file or directory: 'data/steam_user_id.txt'"
     ]
    }
   ],
   "source": [
    "path_user_id = 'data/steam_user_id.txt'\n",
    "with open(path_user_id, 'rb') as f:\n",
    "    lst_user_id = f.readlines()\n",
    "\n",
    "lst_user_id[:5]"
   ]
  },
  {
   "cell_type": "code",
   "execution_count": null,
   "metadata": {},
   "outputs": [],
   "source": [
    "'\\n76561198158086086 \\n\\n\\t'.strip()"
   ]
  },
  {
   "cell_type": "code",
   "execution_count": null,
   "metadata": {},
   "outputs": [],
   "source": [
    "for user_id in lst_user_id[:5]:\n",
    "    base_url = 'http://api.steampowered.com/IPlayerService/GetOwnedGames/v0001/'\n",
    "    params = {\n",
    "        'key' : 'D0C62157A8941F12A687382B6D635449',\n",
    "        'steamid' : user_id.strip(),\n",
    "        'format' : 'json' \n",
    "    }\n",
    "    r = requests.get(base_url, params = params, headers = {})\n",
    "    user_inventory = r.json().get('response').get('games')\n",
    "    time.sleep(.5)\n",
    "    print(user_id, '\\n', user_inventory)"
   ]
  },
  {
   "cell_type": "code",
   "execution_count": null,
   "metadata": {},
   "outputs": [],
   "source": []
  },
  {
   "cell_type": "markdown",
   "metadata": {},
   "source": [
    "##### Option B: Multiprocessing"
   ]
  },
  {
   "cell_type": "code",
   "execution_count": null,
   "metadata": {},
   "outputs": [],
   "source": [
    "# what is multiprocessing?\n",
    "# Multiprocessing vs threading, queue"
   ]
  },
  {
   "cell_type": "code",
   "execution_count": null,
   "metadata": {},
   "outputs": [],
   "source": [
    "path_user_id = 'data/steam_user_id.txt'\n",
    "with open(path_user_id, 'r') as f:\n",
    "    lst_user_id = f.readlines()[:50]"
   ]
  },
  {
   "cell_type": "code",
   "execution_count": null,
   "metadata": {},
   "outputs": [],
   "source": [
    "def worker(lst_user_id_temp):\n",
    "    dic_temp = {}\n",
    "    for user_id in tqdm(lst_user_id_temp, leave=False):\n",
    "        base_url = 'http://api.steampowered.com/IPlayerService/GetOwnedGames/v0001/'\n",
    "        params = {\n",
    "            'key' : 'D0C62157A8941F12A687382B6D635449',\n",
    "            'steamid' : user_id.strip(),\n",
    "            'format' : 'json' }\n",
    "        r = requests.get(base_url, params = params)\n",
    "        user_inventory = r.json().get('response').get('games')\n",
    "        dic_temp.update({user_id.strip():user_inventory})\n",
    "        time.sleep(.5)\n",
    "    return dic_temp"
   ]
  },
  {
   "cell_type": "code",
   "execution_count": null,
   "metadata": {},
   "outputs": [],
   "source": [
    "p = Pool(2)\n",
    "\n",
    "dic_master = {}\n",
    "for i in tqdm(list(split_list(lst_user_id,10))):\n",
    "    lst_temp_dic = p.map(worker, split_list(i,5))\n",
    "    for j in lst_temp_dic:\n",
    "        dic_master.update(j)\n",
    "    \n",
    "    time.sleep(5)"
   ]
  },
  {
   "cell_type": "code",
   "execution_count": null,
   "metadata": {},
   "outputs": [],
   "source": [
    "with open('data/crawled_user_inventory.txt', 'w') as f:\n",
    "    for user_id, user_inventory in list(dic_master.items()):\n",
    "        f.write(json.dumps({str(user_id):user_inventory}))\n",
    "        f.write('\\n')"
   ]
  },
  {
   "cell_type": "markdown",
   "metadata": {
    "collapsed": true
   },
   "source": [
    "### Web Crawler II\n",
    "#### 1) rate limit\n",
    "#### 2) Headers, cookies\n",
    "#### 3) Multiprocessing / Threading\n",
    "#### 4) Selenium"
   ]
  },
  {
   "cell_type": "code",
   "execution_count": null,
   "metadata": {},
   "outputs": [],
   "source": [
    "r = requests.get('https://www.youtube.com/watch?v=sDF1fHQO42M')\n",
    "soup = BeautifulSoup(r.text, 'lxml')\n",
    "soup.find_all('yt-formatted-string', {'class':'style-scope ytd-video-primary-info-renderer'})"
   ]
  },
  {
   "cell_type": "code",
   "execution_count": null,
   "metadata": {},
   "outputs": [],
   "source": [
    "from selenium import webdriver"
   ]
  },
  {
   "cell_type": "code",
   "execution_count": null,
   "metadata": {},
   "outputs": [],
   "source": [
    "driver = webdriver.Chrome('/Applications/chromedriver')"
   ]
  },
  {
   "cell_type": "code",
   "execution_count": null,
   "metadata": {},
   "outputs": [],
   "source": [
    "driver.get('https://www.youtube.com/watch?v=h31myLyc_qk')"
   ]
  },
  {
   "cell_type": "code",
   "execution_count": null,
   "metadata": {},
   "outputs": [],
   "source": [
    "soup = BeautifulSoup(driver.page_source, 'lxml')\n",
    "soup.find('yt-formatted-string', {'class':'style-scope ytd-video-primary-info-renderer'}).string"
   ]
  },
  {
   "cell_type": "markdown",
   "metadata": {
    "collapsed": true
   },
   "source": [
    "#### get app info"
   ]
  },
  {
   "cell_type": "code",
   "execution_count": null,
   "metadata": {},
   "outputs": [],
   "source": [
    "# get all available app id\n",
    "url = 'https://api.steampowered.com/ISteamApps/GetAppList/v2/'\n",
    "r = requests.get(url)\n",
    "dic_app_list = r.json()\n",
    "lst_app_id = [i.get('appid') for i in dic_app_list.get('applist').get('apps')]\n",
    "len(lst_app_id)"
   ]
  },
  {
   "cell_type": "code",
   "execution_count": null,
   "metadata": {},
   "outputs": [],
   "source": [
    "current_count = 0\n",
    "path_app_detail_sample = 'app_detail_sample.txt'\n",
    "with open(path_app_detail_sample, 'w') as f:\n",
    "    for app_id in tqdm(lst_app_id[:5]):\n",
    "        url_app_detail = ('http://store.steampowered.com/api/appdetails?appids=%s') % (app_id)\n",
    "        for i in range(3):\n",
    "            try:\n",
    "                r = requests.get(url_app_detail)\n",
    "                result = r.json()\n",
    "                break\n",
    "            except Exception as e:\n",
    "                print(e)\n",
    "                time.sleep(5)\n",
    "        f.write(json.dumps(result))\n",
    "        f.write('\\n')\n",
    "\n",
    "        if current_count > 0 and current_count % 200 == 0:\n",
    "            time.sleep(300)\n",
    "        else:\n",
    "            time.sleep(.5)"
   ]
  },
  {
   "cell_type": "code",
   "execution_count": null,
   "metadata": {},
   "outputs": [],
   "source": []
  },
  {
   "cell_type": "code",
   "execution_count": null,
   "metadata": {},
   "outputs": [],
   "source": [
    "path_app_detail = 'data/app_detail.txt'\n",
    "\n",
    "with open(path_app_detail, 'r') as f:\n",
    "    \n",
    "    dic_steam_app = {\n",
    "        'initial_price':{},\n",
    "        'name':{},\n",
    "        'score':{},\n",
    "        'windows':{},\n",
    "        'mac':{},\n",
    "        'linux':{},\n",
    "        'type':{},\n",
    "        'release_date':{},\n",
    "        'recommendation':{},\n",
    "        'header_image':{}\n",
    "    }\n",
    "    lst_raw_string = f.readlines()[:200]\n",
    "\n",
    "    for raw_string in tqdm(lst_raw_string):\n",
    "        try:\n",
    "            app_data = list(json.loads(raw_string).values())[0]\n",
    "            if app_data.get('success'):\n",
    "                app_data = app_data.get('data')\n",
    "                steam_id = app_data.get('steam_appid')\n",
    "                initial_price = app_data.get('price_overview',{}).get('initial')\n",
    "                if app_data.get('is_free') == True:\n",
    "                    initial_price = 0\n",
    "                app_name = app_data.get('name')\n",
    "                critic_score = app_data.get('metacritic', {}).get('score')\n",
    "                app_type = app_data.get('type')\n",
    "                for (platform, is_supported) in app_data.get('platforms',{}).items():\n",
    "                    if is_supported == True:\n",
    "                        dic_steam_app[platform].update({steam_id:1})\n",
    "                    else:\n",
    "                        dic_steam_app[platform].update({steam_id:0})\n",
    "                if app_data.get('release_date',{}).get('coming_soon') == False:\n",
    "                    release_date = app_data.get('release_date',{}).get('date')\n",
    "                    if not release_date == '':\n",
    "                        try:\n",
    "                            release_date = datetime.strptime(release_date, '%b %d, %Y')\n",
    "                        except Exception as e:\n",
    "                            try:\n",
    "                                release_date = datetime.strptime(release_date, '%d %b, %Y')\n",
    "                            except:\n",
    "                                release_date = None\n",
    "                        \n",
    "\n",
    "                recommendation = app_data.get('recommendations',{}).get('total')\n",
    "                header_image = app_data.get('header_image')\n",
    "                dic_steam_app['initial_price'].update({steam_id:initial_price})\n",
    "                dic_steam_app['name'].update({steam_id:app_name})\n",
    "                dic_steam_app['score'].update({steam_id:critic_score})\n",
    "                dic_steam_app['type'].update({steam_id:app_type})\n",
    "                dic_steam_app['release_date'].update({steam_id:release_date})\n",
    "                dic_steam_app['recommendation'].update({steam_id:recommendation})\n",
    "                dic_steam_app['header_image'].update({steam_id:header_image})\n",
    "            time.sleep(.1)\n",
    "        except:\n",
    "            pass\n"
   ]
  },
  {
   "cell_type": "code",
   "execution_count": null,
   "metadata": {},
   "outputs": [],
   "source": []
  },
  {
   "cell_type": "markdown",
   "metadata": {},
   "source": [
    "#### Work with MySQL in Python"
   ]
  },
  {
   "cell_type": "code",
   "execution_count": null,
   "metadata": {},
   "outputs": [],
   "source": [
    "df_app_info = pd.DataFrame(dic_steam_app)\n",
    "df_app_info.index.name = 'app_id'\n",
    "df_app_info.reset_index(inplace=True)\n",
    "df_app_info.head()"
   ]
  },
  {
   "cell_type": "code",
   "execution_count": null,
   "metadata": {},
   "outputs": [],
   "source": [
    "user = ''\n",
    "password = ''\n",
    "host = '127.0.0.1'\n",
    "db_name = 'steam'\n",
    "engine = create_engine(f'mysql+pymysql://{user}:{password}@{host}/{db_name}?charset=utf8mb4')"
   ]
  },
  {
   "cell_type": "code",
   "execution_count": null,
   "metadata": {},
   "outputs": [],
   "source": [
    "df_app_info.to_sql('tbl_app_info', engine, if_exists='replace',index=False)"
   ]
  },
  {
   "cell_type": "code",
   "execution_count": null,
   "metadata": {},
   "outputs": [],
   "source": [
    "engine.execute(\n",
    "    '''\n",
    "    select * from tbl_app_info limit 10\n",
    "    ''').fetchall()"
   ]
  },
  {
   "cell_type": "code",
   "execution_count": null,
   "metadata": {},
   "outputs": [],
   "source": [
    "pd.read_sql_query('''\n",
    "    select * from tbl_app_info limit 10\n",
    "''', engine)"
   ]
  },
  {
   "cell_type": "code",
   "execution_count": null,
   "metadata": {},
   "outputs": [],
   "source": []
  },
  {
   "cell_type": "code",
   "execution_count": null,
   "metadata": {},
   "outputs": [],
   "source": []
  },
  {
   "cell_type": "code",
   "execution_count": null,
   "metadata": {},
   "outputs": [],
   "source": []
  },
  {
   "cell_type": "code",
   "execution_count": null,
   "metadata": {},
   "outputs": [],
   "source": []
  },
  {
   "cell_type": "code",
   "execution_count": null,
   "metadata": {},
   "outputs": [],
   "source": []
  },
  {
   "cell_type": "code",
   "execution_count": null,
   "metadata": {},
   "outputs": [],
   "source": []
  },
  {
   "cell_type": "code",
   "execution_count": null,
   "metadata": {},
   "outputs": [],
   "source": []
  },
  {
   "cell_type": "code",
   "execution_count": null,
   "metadata": {},
   "outputs": [],
   "source": []
  },
  {
   "cell_type": "code",
   "execution_count": null,
   "metadata": {},
   "outputs": [],
   "source": []
  }
 ],
 "metadata": {
  "anaconda-cloud": {},
  "kernelspec": {
   "display_name": "Python 3",
   "language": "python",
   "name": "python3"
  },
  "language_info": {
   "codemirror_mode": {
    "name": "ipython",
    "version": 3
   },
   "file_extension": ".py",
   "mimetype": "text/x-python",
   "name": "python",
   "nbconvert_exporter": "python",
   "pygments_lexer": "ipython3",
   "version": "3.8.5"
  },
  "widgets": {
   "state": {
    "1fe31ddf628d49b59aae35927dced5cc": {
     "views": [
      {
       "cell_index": 13
      }
     ]
    },
    "26f9bd8b6c2d40e8b677309cca79fd6c": {
     "views": [
      {
       "cell_index": 3
      }
     ]
    },
    "a70fa7f4b0ad4dfe9a26b6790b4a2908": {
     "views": [
      {
       "cell_index": 25
      }
     ]
    },
    "b9f51935742449f3b32d63321cce5665": {
     "views": [
      {
       "cell_index": 23
      }
     ]
    }
   },
   "version": "1.2.0"
  }
 },
 "nbformat": 4,
 "nbformat_minor": 1
}
