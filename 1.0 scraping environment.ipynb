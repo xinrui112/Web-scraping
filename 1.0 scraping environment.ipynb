{
 "cells": [
  {
   "cell_type": "code",
   "execution_count": 1,
   "metadata": {},
   "outputs": [],
   "source": [
    "import requests\n",
    "import selenium"
   ]
  },
  {
   "cell_type": "code",
   "execution_count": 10,
   "metadata": {},
   "outputs": [],
   "source": [
    "#open browser: chromedriver/GeckoDriver\n",
    "import time\n",
    "from selenium import webdriver\n",
    "\n",
    "driver = webdriver.Chrome('/Applications/chromedriver')\n",
    "driver.get('http://www.google.com/')\n",
    "time.sleep(5)\n",
    "search_box = driver.find_element_by_name('q')\n",
    "search_box.send_keys('ChromeDriver')\n",
    "search_box.submit()\n",
    "time.sleep(5)\n",
    "driver.quit()"
   ]
  },
  {
   "cell_type": "code",
   "execution_count": 15,
   "metadata": {},
   "outputs": [
    {
     "name": "stderr",
     "output_type": "stream",
     "text": [
      "/Users/xrli/opt/anaconda3/lib/python3.8/site-packages/selenium/webdriver/phantomjs/webdriver.py:49: UserWarning: Selenium support for PhantomJS has been deprecated, please use headless versions of Chrome or Firefox instead\n",
      "  warnings.warn('Selenium support for PhantomJS has been deprecated, please use headless '\n"
     ]
    },
    {
     "name": "stdout",
     "output_type": "stream",
     "text": [
      "http://www.google.com/#spf=1614562579331\n"
     ]
    }
   ],
   "source": [
    "#no browser: PhantomJS\n",
    "from selenium import webdriver\n",
    "driver=webdriver.PhantomJS('/Applications/PhantomJS')\n",
    "driver.get('http://www.google.com/')\n",
    "print(driver.current_url)"
   ]
  },
  {
   "cell_type": "code",
   "execution_count": 21,
   "metadata": {},
   "outputs": [],
   "source": [
    "#html/xml解析\n",
    "#!pip install aiohttp\n",
    "#!pip install lxml\n",
    "#!pip install beautifulsoup4\n",
    "#!pip install pyquery"
   ]
  },
  {
   "cell_type": "code",
   "execution_count": 93,
   "metadata": {},
   "outputs": [],
   "source": [
    "#ocr verificaiton\n",
    "#!pip install autoconf\n",
    "##!pip install automake\n",
    "#!pip install libtool\n",
    "#!pip install pkgconfig\n",
    "#!pip install tesseract"
   ]
  },
  {
   "cell_type": "code",
   "execution_count": null,
   "metadata": {},
   "outputs": [],
   "source": []
  },
  {
   "cell_type": "code",
   "execution_count": 117,
   "metadata": {},
   "outputs": [
    {
     "name": "stdout",
     "output_type": "stream",
     "text": [
      "Collecting pymysql\n",
      "  Downloading PyMySQL-1.0.2-py3-none-any.whl (43 kB)\n",
      "\u001b[K     |████████████████████████████████| 43 kB 330 kB/s eta 0:00:01\n",
      "\u001b[?25hInstalling collected packages: pymysql\n",
      "Successfully installed pymysql-1.0.2\n"
     ]
    }
   ],
   "source": [
    "#!pip install pymysql\n",
    "#!pip install pymongo"
   ]
  },
  {
   "cell_type": "code",
   "execution_count": 119,
   "metadata": {},
   "outputs": [
    {
     "name": "stdout",
     "output_type": "stream",
     "text": [
      "Fetching redis-dump-0.4.0.gem\n",
      "Fetching redis-4.2.5.gem\n",
      "Fetching yajl-ruby-1.4.1.gem\n",
      "Fetching drydock-0.6.9.gem\n",
      "Fetching uri-redis-0.4.2.gem\n",
      "ERROR:  While executing gem ... (Gem::FilePermissionError)\n",
      "    You don't have write permissions for the /Library/Ruby/Gems/2.6.0 directory.\n"
     ]
    }
   ],
   "source": [
    "##!gem install redis-dump  #ruby"
   ]
  },
  {
   "cell_type": "code",
   "execution_count": null,
   "metadata": {},
   "outputs": [],
   "source": []
  },
  {
   "cell_type": "code",
   "execution_count": 121,
   "metadata": {},
   "outputs": [
    {
     "name": "stdout",
     "output_type": "stream",
     "text": [
      "Requirement already satisfied: tornado in /Users/xrli/opt/anaconda3/lib/python3.8/site-packages (6.0.4)\r\n"
     ]
    }
   ],
   "source": [
    "#web server\n",
    "#!pip install flask\n",
    "#!pip install tornado"
   ]
  },
  {
   "cell_type": "code",
   "execution_count": null,
   "metadata": {},
   "outputs": [],
   "source": []
  },
  {
   "cell_type": "code",
   "execution_count": 124,
   "metadata": {},
   "outputs": [
    {
     "name": "stdout",
     "output_type": "stream",
     "text": [
      "\u001b[31mERROR: Could not find a version that satisfies the requirement appium\u001b[0m\r\n",
      "\u001b[31mERROR: No matching distribution found for appium\u001b[0m\r\n"
     ]
    }
   ],
   "source": [
    "#scraping\n",
    "#charles/fiddler\n",
    "##!pip install mitmproxy\n",
    "#!pip install appium #mobile"
   ]
  },
  {
   "cell_type": "code",
   "execution_count": null,
   "metadata": {},
   "outputs": [],
   "source": []
  },
  {
   "cell_type": "code",
   "execution_count": 134,
   "metadata": {},
   "outputs": [
    {
     "name": "stdout",
     "output_type": "stream",
     "text": [
      "Collecting gerapy\n",
      "  Downloading gerapy-0.9.6-py2.py3-none-any.whl (3.7 MB)\n",
      "\u001b[K     |████████████████████████████████| 3.7 MB 1.6 MB/s eta 0:00:01\n",
      "\u001b[?25hRequirement already satisfied: pymysql>=0.7.10 in /Users/xrli/opt/anaconda3/lib/python3.8/site-packages (from gerapy) (1.0.2)\n",
      "Collecting jinja2==2.10.1\n",
      "  Downloading Jinja2-2.10.1-py2.py3-none-any.whl (124 kB)\n",
      "\u001b[K     |████████████████████████████████| 124 kB 1.4 MB/s eta 0:00:01\n",
      "\u001b[?25hCollecting python-scrapyd-api>=2.1.2\n",
      "  Downloading python_scrapyd_api-2.1.2-py2.py3-none-any.whl (12 kB)\n",
      "Requirement already satisfied: cryptography>=2.8 in /Users/xrli/opt/anaconda3/lib/python3.8/site-packages (from gerapy) (3.3.2)\n",
      "Collecting scrapy<2.0.0,>=1.5.0\n",
      "  Downloading Scrapy-1.8.0-py2.py3-none-any.whl (238 kB)\n",
      "\u001b[K     |████████████████████████████████| 238 kB 1.4 MB/s eta 0:00:01\n",
      "\u001b[?25hRequirement already satisfied: scrapy-redis>=0.6.8 in /Users/xrli/opt/anaconda3/lib/python3.8/site-packages (from gerapy) (0.6.8)\n",
      "Requirement already satisfied: pyquery>=1.2.17 in /Users/xrli/opt/anaconda3/lib/python3.8/site-packages (from gerapy) (1.4.3)\n",
      "Collecting djangorestframework==3.9.2\n",
      "  Downloading djangorestframework-3.9.2-py2.py3-none-any.whl (911 kB)\n",
      "\u001b[K     |████████████████████████████████| 911 kB 2.4 MB/s eta 0:00:01\n",
      "\u001b[?25hRequirement already satisfied: pymongo>=3.9.0 in /Users/xrli/opt/anaconda3/lib/python3.8/site-packages (from gerapy) (3.11.3)\n",
      "Collecting websocket>=0.2.1\n",
      "  Downloading websocket-0.2.1.tar.gz (195 kB)\n",
      "\u001b[K     |████████████████████████████████| 195 kB 30 kB/s eta 0:00:01\n",
      "\u001b[?25hCollecting django-apscheduler==0.3.0\n",
      "  Downloading django-apscheduler-0.3.0.tar.gz (8.6 kB)\n",
      "Requirement already satisfied: requests>=2.20.0 in /Users/xrli/opt/anaconda3/lib/python3.8/site-packages (from gerapy) (2.24.0)\n",
      "Collecting django-cors-headers==3.2.0\n",
      "  Downloading django_cors_headers-3.2.0-py3-none-any.whl (14 kB)\n",
      "Collecting apscheduler==3.5.1\n",
      "  Downloading APScheduler-3.5.1-py2.py3-none-any.whl (60 kB)\n",
      "\u001b[K     |████████████████████████████████| 60 kB 743 kB/s eta 0:00:011\n",
      "\u001b[?25hRequirement already satisfied: redis>=2.10.5 in /Users/xrli/opt/anaconda3/lib/python3.8/site-packages (from gerapy) (3.5.3)\n",
      "Collecting pyppeteer>=0.0.25\n",
      "  Downloading pyppeteer-0.2.5-py3-none-any.whl (87 kB)\n",
      "\u001b[K     |████████████████████████████████| 87 kB 1.9 MB/s eta 0:00:011\n",
      "\u001b[?25hCollecting furl>=2.1.0\n",
      "  Downloading furl-2.1.0-py2.py3-none-any.whl (20 kB)\n",
      "Requirement already satisfied: beautifulsoup4>=4.7.0 in /Users/xrli/opt/anaconda3/lib/python3.8/site-packages (from gerapy) (4.9.1)\n",
      "Requirement already satisfied: scrapy-splash>=0.7.2 in /Users/xrli/opt/anaconda3/lib/python3.8/site-packages (from gerapy) (0.7.2)\n",
      "Collecting django==1.11.29\n",
      "  Downloading Django-1.11.29-py2.py3-none-any.whl (6.9 MB)\n",
      "\u001b[K     |████████████████████████████████| 6.9 MB 1.1 MB/s eta 0:00:01     |█                               | 225 kB 491 kB/s eta 0:00:14\n",
      "\u001b[?25hRequirement already satisfied: setuptools>=0.7 in /Users/xrli/opt/anaconda3/lib/python3.8/site-packages (from apscheduler==3.5.1->gerapy) (53.0.0)\n",
      "Requirement already satisfied: six>=1.4.0 in /Users/xrli/opt/anaconda3/lib/python3.8/site-packages (from apscheduler==3.5.1->gerapy) (1.15.0)\n",
      "Collecting tzlocal>=1.2\n",
      "  Downloading tzlocal-2.1-py2.py3-none-any.whl (16 kB)\n",
      "Requirement already satisfied: pytz in /Users/xrli/opt/anaconda3/lib/python3.8/site-packages (from apscheduler==3.5.1->gerapy) (2020.1)\n",
      "Requirement already satisfied: MarkupSafe>=0.23 in /Users/xrli/opt/anaconda3/lib/python3.8/site-packages (from jinja2==2.10.1->gerapy) (1.1.1)\n",
      "Requirement already satisfied: soupsieve>1.2 in /Users/xrli/opt/anaconda3/lib/python3.8/site-packages (from beautifulsoup4>=4.7.0->gerapy) (2.0.1)\n",
      "Requirement already satisfied: cffi>=1.12 in /Users/xrli/opt/anaconda3/lib/python3.8/site-packages (from cryptography>=2.8->gerapy) (1.14.0)\n",
      "Requirement already satisfied: pycparser in /Users/xrli/opt/anaconda3/lib/python3.8/site-packages (from cffi>=1.12->cryptography>=2.8->gerapy) (2.20)\n",
      "Collecting orderedmultidict>=1.0.1\n",
      "  Downloading orderedmultidict-1.0.1-py2.py3-none-any.whl (11 kB)\n",
      "Requirement already satisfied: tqdm<5.0.0,>=4.42.1 in /Users/xrli/opt/anaconda3/lib/python3.8/site-packages (from pyppeteer>=0.0.25->gerapy) (4.47.0)\n",
      "Collecting websockets<9.0,>=8.1\n",
      "  Downloading websockets-8.1-cp38-cp38-macosx_10_9_x86_64.whl (64 kB)\n",
      "\u001b[K     |████████████████████████████████| 64 kB 1.3 MB/s eta 0:00:01\n",
      "\u001b[?25hCollecting appdirs<2.0.0,>=1.4.3\n",
      "  Downloading appdirs-1.4.4-py2.py3-none-any.whl (9.6 kB)\n",
      "Requirement already satisfied: urllib3<2.0.0,>=1.25.8 in /Users/xrli/opt/anaconda3/lib/python3.8/site-packages (from pyppeteer>=0.0.25->gerapy) (1.25.9)\n",
      "Collecting pyee<9.0.0,>=8.1.0\n",
      "  Downloading pyee-8.1.0-py2.py3-none-any.whl (12 kB)\n",
      "Requirement already satisfied: cssselect>0.7.9 in /Users/xrli/opt/anaconda3/lib/python3.8/site-packages (from pyquery>=1.2.17->gerapy) (1.1.0)\n",
      "Requirement already satisfied: lxml>=2.1 in /Users/xrli/opt/anaconda3/lib/python3.8/site-packages (from pyquery>=1.2.17->gerapy) (4.5.2)\n",
      "Requirement already satisfied: certifi>=2017.4.17 in /Users/xrli/opt/anaconda3/lib/python3.8/site-packages (from requests>=2.20.0->gerapy) (2020.12.5)\n",
      "Requirement already satisfied: idna<3,>=2.5 in /Users/xrli/opt/anaconda3/lib/python3.8/site-packages (from requests>=2.20.0->gerapy) (2.10)\n",
      "Requirement already satisfied: chardet<4,>=3.0.2 in /Users/xrli/opt/anaconda3/lib/python3.8/site-packages (from requests>=2.20.0->gerapy) (3.0.4)\n",
      "Requirement already satisfied: queuelib>=1.4.2 in /Users/xrli/opt/anaconda3/lib/python3.8/site-packages (from scrapy<2.0.0,>=1.5.0->gerapy) (1.5.0)\n",
      "Requirement already satisfied: protego>=0.1.15 in /Users/xrli/opt/anaconda3/lib/python3.8/site-packages (from scrapy<2.0.0,>=1.5.0->gerapy) (0.1.16)\n",
      "Requirement already satisfied: service-identity>=16.0.0 in /Users/xrli/opt/anaconda3/lib/python3.8/site-packages (from scrapy<2.0.0,>=1.5.0->gerapy) (18.1.0)\n",
      "Requirement already satisfied: w3lib>=1.17.0 in /Users/xrli/opt/anaconda3/lib/python3.8/site-packages (from scrapy<2.0.0,>=1.5.0->gerapy) (1.22.0)\n",
      "Requirement already satisfied: PyDispatcher>=2.0.5 in /Users/xrli/opt/anaconda3/lib/python3.8/site-packages (from scrapy<2.0.0,>=1.5.0->gerapy) (2.0.5)\n",
      "Requirement already satisfied: Twisted>=17.9.0 in /Users/xrli/opt/anaconda3/lib/python3.8/site-packages (from scrapy<2.0.0,>=1.5.0->gerapy) (21.2.0)\n",
      "Requirement already satisfied: zope.interface>=4.1.3 in /Users/xrli/opt/anaconda3/lib/python3.8/site-packages (from scrapy<2.0.0,>=1.5.0->gerapy) (4.7.1)\n",
      "Requirement already satisfied: pyOpenSSL>=16.2.0 in /Users/xrli/opt/anaconda3/lib/python3.8/site-packages (from scrapy<2.0.0,>=1.5.0->gerapy) (19.1.0)\n",
      "Requirement already satisfied: parsel>=1.5.0 in /Users/xrli/opt/anaconda3/lib/python3.8/site-packages (from scrapy<2.0.0,>=1.5.0->gerapy) (1.6.0)\n",
      "Requirement already satisfied: pyasn1 in /Users/xrli/opt/anaconda3/lib/python3.8/site-packages (from service-identity>=16.0.0->scrapy<2.0.0,>=1.5.0->gerapy) (0.4.8)\n",
      "Requirement already satisfied: pyasn1-modules in /Users/xrli/opt/anaconda3/lib/python3.8/site-packages (from service-identity>=16.0.0->scrapy<2.0.0,>=1.5.0->gerapy) (0.2.8)\n",
      "Requirement already satisfied: attrs>=16.0.0 in /Users/xrli/opt/anaconda3/lib/python3.8/site-packages (from service-identity>=16.0.0->scrapy<2.0.0,>=1.5.0->gerapy) (19.3.0)\n",
      "Requirement already satisfied: incremental>=16.10.1 in /Users/xrli/opt/anaconda3/lib/python3.8/site-packages (from Twisted>=17.9.0->scrapy<2.0.0,>=1.5.0->gerapy) (17.5.0)\n",
      "Requirement already satisfied: Automat>=0.8.0 in /Users/xrli/opt/anaconda3/lib/python3.8/site-packages (from Twisted>=17.9.0->scrapy<2.0.0,>=1.5.0->gerapy) (20.2.0)\n",
      "Requirement already satisfied: constantly>=15.1 in /Users/xrli/opt/anaconda3/lib/python3.8/site-packages (from Twisted>=17.9.0->scrapy<2.0.0,>=1.5.0->gerapy) (15.1.0)\n",
      "Requirement already satisfied: hyperlink>=17.1.1 in /Users/xrli/opt/anaconda3/lib/python3.8/site-packages (from Twisted>=17.9.0->scrapy<2.0.0,>=1.5.0->gerapy) (21.0.0)\n",
      "Requirement already satisfied: gevent in /Users/xrli/opt/anaconda3/lib/python3.8/site-packages (from websocket>=0.2.1->gerapy) (20.6.2)\n",
      "Requirement already satisfied: greenlet in /Users/xrli/opt/anaconda3/lib/python3.8/site-packages (from websocket>=0.2.1->gerapy) (0.4.16)\n"
     ]
    },
    {
     "name": "stdout",
     "output_type": "stream",
     "text": [
      "Requirement already satisfied: zope.event in /Users/xrli/opt/anaconda3/lib/python3.8/site-packages (from gevent->websocket>=0.2.1->gerapy) (4.4)\n",
      "Building wheels for collected packages: django-apscheduler, websocket\n",
      "  Building wheel for django-apscheduler (setup.py) ... \u001b[?25ldone\n",
      "\u001b[?25h  Created wheel for django-apscheduler: filename=django_apscheduler-0.3.0-py3-none-any.whl size=9940 sha256=4062815defc48da12868cb5e0d18e125012172d84a2f2377ed30c535671fdd47\n",
      "  Stored in directory: /Users/xrli/Library/Caches/pip/wheels/cb/34/61/571b9daba917995fc82d571244cdaffd335e15f197d8896640\n",
      "  Building wheel for websocket (setup.py) ... \u001b[?25ldone\n",
      "\u001b[?25h  Created wheel for websocket: filename=websocket-0.2.1-py3-none-any.whl size=192133 sha256=42fe913c18cf50816b341b57887fc24ef947167509a4eb33a38f622157455783\n",
      "  Stored in directory: /Users/xrli/Library/Caches/pip/wheels/22/8c/62/9329dba609b51d2bd45684b004e55681ca619e123b4554d065\n",
      "Successfully built django-apscheduler websocket\n",
      "Installing collected packages: tzlocal, websockets, scrapy, pyee, orderedmultidict, django, apscheduler, appdirs, websocket, python-scrapyd-api, pyppeteer, jinja2, furl, djangorestframework, django-cors-headers, django-apscheduler, gerapy\n",
      "  Attempting uninstall: scrapy\n",
      "    Found existing installation: Scrapy 2.4.1\n",
      "    Uninstalling Scrapy-2.4.1:\n",
      "      Successfully uninstalled Scrapy-2.4.1\n",
      "  Attempting uninstall: jinja2\n",
      "    Found existing installation: Jinja2 2.11.2\n",
      "    Uninstalling Jinja2-2.11.2:\n",
      "      Successfully uninstalled Jinja2-2.11.2\n",
      "\u001b[31mERROR: pip's dependency resolver does not currently take into account all the packages that are installed. This behaviour is the source of the following dependency conflicts.\n",
      "notebook 6.0.3 requires tornado>=5.0, but you have tornado 4.5.3 which is incompatible.\n",
      "bokeh 2.1.1 requires tornado>=5.1, but you have tornado 4.5.3 which is incompatible.\u001b[0m\n",
      "Successfully installed appdirs-1.4.4 apscheduler-3.5.1 django-1.11.29 django-apscheduler-0.3.0 django-cors-headers-3.2.0 djangorestframework-3.9.2 furl-2.1.0 gerapy-0.9.6 jinja2-2.10.1 orderedmultidict-1.0.1 pyee-8.1.0 pyppeteer-0.2.5 python-scrapyd-api-2.1.2 scrapy-1.8.0 tzlocal-2.1 websocket-0.2.1 websockets-8.1\n"
     ]
    }
   ],
   "source": [
    "#scraping frame\n",
    "##!pip install pyspider\n",
    "#!pip install scrapy\n",
    "#!pip install scrapy-splash\n",
    "#!pip install scrapy-redis\n",
    "#!pip install scrapyd\n",
    "#!pip install scrapyd-client\n",
    "#!pip install scrapyrt\n",
    "#!pip install gerapy\n",
    "\n",
    "#ternado needs to update."
   ]
  },
  {
   "cell_type": "code",
   "execution_count": null,
   "metadata": {},
   "outputs": [],
   "source": []
  }
 ],
 "metadata": {
  "kernelspec": {
   "display_name": "Python 3",
   "language": "python",
   "name": "python3"
  },
  "language_info": {
   "codemirror_mode": {
    "name": "ipython",
    "version": 3
   },
   "file_extension": ".py",
   "mimetype": "text/x-python",
   "name": "python",
   "nbconvert_exporter": "python",
   "pygments_lexer": "ipython3",
   "version": "3.8.3"
  }
 },
 "nbformat": 4,
 "nbformat_minor": 4
}
