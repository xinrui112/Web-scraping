{
 "cells": [
  {
   "cell_type": "code",
   "execution_count": 1,
   "metadata": {},
   "outputs": [],
   "source": [
    "import queue\n",
    "import os\n",
    "import urllib\n",
    "import re\n",
    "import selenium\n",
    "from bs4 import BeautifulSoup\n",
    "from selenium import webdriver\n",
    "import urllib.robotparser\n",
    "from urllib.parse import urlparse\n",
    "import requests\n",
    "import csv\n",
    "import datetime\n",
    "from datetime import datetime, timedelta\n",
    "import time\n",
    "from selenium import webdriver\n",
    "from selenium.common.exceptions import TimeoutException\n",
    "from selenium.webdriver.support.ui import WebDriverWait"
   ]
  },
  {
   "cell_type": "code",
   "execution_count": null,
   "metadata": {},
   "outputs": [],
   "source": [
    "end = '20210301'\n",
    "start = '20210315'\n",
    "driver = webdriver.Chrome('/Applications/chromedriver')\n",
    "rp = urllib.robotparser.RobotFileParser()\n",
    "for i in range (1,120):\n",
    "    date = datetime(year=int(end[0:4]), month=int(end[4:6]), day=int(end[6:8]))\n",
    "    date -= timedelta(days=7)\n",
    "    end = date.strftime(\"%Y%m%d\")\n",
    "   \n",
    "    new = datetime(year=int(start[0:4]), month=int(start[4:6]), day=int(start[6:8]))\n",
    "    new -= timedelta(days=7)\n",
    "    start = new.strftime(\"%Y%m%d\")\n",
    "   \n",
    "    dates = start + '-' + end\n",
    "   \n",
    "    print(dates)\n",
    "    time.sleep(5)\n",
    "    driver.get('https://charts.youtube.com/charts/TopSongs/us/' + dates );\n",
    "    time.sleep(5)\n",
    "    button = driver.find_element_by_xpath('//*[@id=\"download-button\"]')\n",
    "    time.sleep(5)\n",
    "    driver.execute_script(\"arguments[0].click();\", button)\n",
    "    #//*[@id=\"download-button\"]"
   ]
  },
  {
   "cell_type": "code",
   "execution_count": null,
   "metadata": {},
   "outputs": [],
   "source": []
  }
 ],
 "metadata": {
  "kernelspec": {
   "display_name": "Python 3",
   "language": "python",
   "name": "python3"
  },
  "language_info": {
   "codemirror_mode": {
    "name": "ipython",
    "version": 3
   },
   "file_extension": ".py",
   "mimetype": "text/x-python",
   "name": "python",
   "nbconvert_exporter": "python",
   "pygments_lexer": "ipython3",
   "version": "3.8.5"
  }
 },
 "nbformat": 4,
 "nbformat_minor": 4
}
